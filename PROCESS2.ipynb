{
 "cells": [
  {
   "cell_type": "markdown",
   "metadata": {},
   "source": [
    "IMPORT THE DATASET CVS, CHANGE TO XLSX FORMAT"
   ]
  },
  {
   "cell_type": "code",
   "execution_count": 1,
   "metadata": {},
   "outputs": [
    {
     "name": "stdout",
     "output_type": "stream",
     "text": [
      "File success device_network_data.xlsx\n"
     ]
    }
   ],
   "source": [
    "import pandas as pd\n",
    "\n",
    "# Read file CVS\n",
    "csv_file_path = \"device_network_data.csv\"\n",
    "df = pd.read_csv(csv_file_path)\n",
    "\n",
    "# Save to xlsx format (I prefer to used xlsx)\n",
    "xlsx_file_path = \"device_network_data.xlsx\"\n",
    "df.to_excel(xlsx_file_path, index=False)\n",
    "\n",
    "print(f\"File success {xlsx_file_path}\")"
   ]
  },
  {
   "cell_type": "markdown",
   "metadata": {},
   "source": [
    "NULL OR \" \" VALUE IS SOME ROW, CONVERT THAT VALUE TO THE LAST NON-NULL VALUE BEFORE IT SELF"
   ]
  },
  {
   "cell_type": "code",
   "execution_count": 2,
   "metadata": {},
   "outputs": [
    {
     "name": "stderr",
     "output_type": "stream",
     "text": [
      "C:\\Users\\USER\\AppData\\Local\\Temp\\ipykernel_18032\\2021149637.py:10: FutureWarning: Series.fillna with 'method' is deprecated and will raise in a future version. Use obj.ffill() or obj.bfill() instead.\n",
      "  df[column] = df[column].fillna(method='ffill')\n",
      "C:\\Users\\USER\\AppData\\Local\\Temp\\ipykernel_18032\\2021149637.py:16: FutureWarning: Series.fillna with 'method' is deprecated and will raise in a future version. Use obj.ffill() or obj.bfill() instead.\n",
      "  df['Value'] = df['Value'].fillna(method='ffill')\n"
     ]
    }
   ],
   "source": [
    "# Fill the null or \" \" value with the last non-null value before it self\n",
    "columns_to_fill = ['Value']  \n",
    "\n",
    "# Process to fill the null and not valid value \n",
    "for column in columns_to_fill:\n",
    "    # Check the value of columns \"Value\"\n",
    "    df[column] = df[column].apply(lambda x: pd.NA if x == '' else x)\n",
    "    \n",
    "    # Change the value of nan with last value before the nan value (just 1 or 0)\n",
    "    df[column] = df[column].fillna(method='ffill')\n",
    "    \n",
    "# Change the value of \"Null\"\n",
    "df['Value'] = df['Value'].replace('Null', pd.NA)\n",
    "\n",
    "# Change it to 1 or 0 (last value before it self)\n",
    "df['Value'] = df['Value'].fillna(method='ffill')\n",
    "\n",
    "# Save to new dataframe\n",
    "xlsx_file_path = \"device_network_data_filled.xlsx\"\n",
    "df.to_excel(xlsx_file_path, index=False)"
   ]
  },
  {
   "cell_type": "markdown",
   "metadata": {},
   "source": [
    "CHECK THE VALUE OF NULL IN DATASET"
   ]
  },
  {
   "cell_type": "code",
   "execution_count": 3,
   "metadata": {},
   "outputs": [
    {
     "name": "stdout",
     "output_type": "stream",
     "text": [
      "0\n"
     ]
    }
   ],
   "source": [
    "# Check whether there are still null values ​​in the values ​​column (with isna and sum)\n",
    "null_values = df['Value'].isna().sum()\n",
    "print (null_values)"
   ]
  },
  {
   "cell_type": "code",
   "execution_count": 5,
   "metadata": {},
   "outputs": [
    {
     "name": "stdout",
     "output_type": "stream",
     "text": [
      "Total Downtime : 59.0 seconds\n"
     ]
    }
   ],
   "source": [
    "import pandas as pd\n",
    "\n",
    "# Test Data\n",
    "data_test_2 = [\n",
    "    (1704042000000, 1),\n",
    "    (1704042026000, 1),\n",
    "    (1704042035000, 1),\n",
    "    (1704042037000, 1),\n",
    "    (1704042059000, 1),\n",
    "]\n",
    "\n",
    "# Make data frame\n",
    "df = pd.DataFrame(data_test_2, columns=['Epoch Time', 'Value'])\n",
    "\n",
    "# Convert the Epoch Time column to datetime format, \"ms\" it means mili second\n",
    "df['Epoch Time'] = pd.to_datetime(df['Epoch Time'], unit='ms')\n",
    "\n",
    "# Calculate the total downtime in seconds\n",
    "df['Time Difference'] = df['Epoch Time'].diff().dt.total_seconds()\n",
    "\n",
    "# Calculate the total downtime when the device was down (Value = 1)\n",
    "total_downtime = df.loc[df['Value'] == 1, 'Time Difference'].sum()\n",
    "\n",
    "# Print the result\n",
    "print(f\"Total Downtime : {total_downtime} seconds\")\n"
   ]
  },
  {
   "cell_type": "code",
   "execution_count": 36,
   "metadata": {},
   "outputs": [
    {
     "name": "stdout",
     "output_type": "stream",
     "text": [
      "Total downtime: 12.0 seconds\n"
     ]
    }
   ],
   "source": [
    "import pandas as pd\n",
    "\n",
    "# Contoh data\n",
    "data_test_1 = [\n",
    "    (1704042000000, 0),\n",
    "    (1704042026000, 1),\n",
    "    (1704042035000, 1),\n",
    "    (1704042037000, 0),\n",
    "    (1704042059000, 1),\n",
    "    (1704042060000, 1)\n",
    "]\n",
    "\n",
    "df = pd.DataFrame(data_test_1, columns=['Epoch Time', 'Value'])\n",
    "\n",
    "# Convert the 'Epoch Time' column to datetime format, \"ms\" it means second\n",
    "df['Epoch Time'] = pd.to_datetime(df['Epoch Time'], unit='ms')\n",
    "\n",
    "# Calculate the total downtime in seconds\n",
    "df['Time Difference'] = df['Epoch Time'].diff().dt.total_seconds()\n",
    "\n",
    "# Initialitation\n",
    "total_downtime = 0\n",
    "\n",
    "# Iterasi for downtime\n",
    "for i in range(1, len(df)):\n",
    "    if df.loc[i-1, 'Value'] == 1:\n",
    "        # Only add time if the device was down on the previous line\n",
    "        total_downtime += df.loc[i, 'Time Difference']\n",
    "\n",
    "print(f\"Total downtime: {total_downtime} seconds\")\n"
   ]
  },
  {
   "cell_type": "markdown",
   "metadata": {},
   "source": [
    "TESTING \n",
    "\n",
    "Value = 1 that means device was down\n",
    "\n",
    "Value = 0 that means device was up\n",
    "\n",
    "Calculate how long the device was down referred by csv data (in second)"
   ]
  },
  {
   "cell_type": "markdown",
   "metadata": {},
   "source": [
    "EXPLAIN CODE :\n",
    "\n",
    "The code starts by initializing a DataFrame df with two columns: 'Epoch Time' and 'Value'. Then, the code iterates over each row of the DataFrame. During an iteration, if the downtime status (is_down) is False and the value in the 'Value' column is 1, then downtime starts, and the start time (start_down) is saved. If is_down is True and the value in the 'Value' column changes to 0 or the iteration reaches the end of the DataFrame, then the downtime ends. The end time (end_down) is saved and the downtime duration is calculated and added to the arrData list. After the iteration is complete, all downtime durations stored in arrData are added up and converted to seconds, then the results are printed."
   ]
  },
  {
   "cell_type": "code",
   "execution_count": 42,
   "metadata": {},
   "outputs": [
    {
     "name": "stdout",
     "output_type": "stream",
     "text": [
      "[Timedelta('0 days 00:01:26'), Timedelta('0 days 08:19:40'), Timedelta('0 days 00:00:57'), Timedelta('0 days 01:49:42'), Timedelta('0 days 00:03:01'), Timedelta('0 days 00:01:00'), Timedelta('0 days 00:01:00'), Timedelta('0 days 00:01:01'), Timedelta('0 days 00:13:04'), Timedelta('0 days 00:06:02'), Timedelta('0 days 00:12:05'), Timedelta('0 days 00:35:12'), Timedelta('0 days 00:05:01'), Timedelta('0 days 00:12:04'), Timedelta('0 days 00:02:01'), Timedelta('0 days 00:03:02'), Timedelta('0 days 00:09:03'), Timedelta('0 days 00:01:00'), Timedelta('0 days 00:03:01'), Timedelta('0 days 00:01:00'), Timedelta('0 days 00:04:01'), Timedelta('0 days 00:37:13'), Timedelta('0 days 00:05:51'), Timedelta('0 days 00:00:15'), Timedelta('0 days 00:00:16'), Timedelta('0 days 00:00:54'), Timedelta('0 days 00:07:03'), Timedelta('0 days 00:03:01'), Timedelta('0 days 00:08:02'), Timedelta('0 days 00:01:00'), Timedelta('0 days 00:01:01'), Timedelta('0 days 00:02:01'), Timedelta('0 days 00:03:01'), Timedelta('0 days 00:01:00'), Timedelta('0 days 00:04:01'), Timedelta('0 days 00:03:00'), Timedelta('0 days 00:04:41'), Timedelta('0 days 00:00:16'), Timedelta('0 days 00:00:13'), Timedelta('0 days 00:02:01'), Timedelta('0 days 00:21:46'), Timedelta('0 days 02:20:51')]\n",
      "58.31\n"
     ]
    }
   ],
   "source": [
    "df = pd.DataFrame(df, columns=['Epoch Time', 'Value'])\n",
    "\n",
    "x = 0\n",
    "is_down = False\n",
    "arrData = []\n",
    "\n",
    "for x in range(len(df)):\n",
    "    if is_down == False:\n",
    "        if df['Value'][x] == '1':\n",
    "            is_down = True\n",
    "            start_down = df['Epoch Time'][x]\n",
    "    else:\n",
    "        if df['Value'][x] == '0' or x == len(df) - 1:\n",
    "            is_down = False\n",
    "            end_down = df['Epoch Time'][x]\n",
    "            diff_time = end_down-start_down\n",
    "            arrData.append(diff_time)\n",
    "    x+=1\n",
    "print(arrData)\n",
    "\n",
    "total_downtime = sum(arrData, pd.Timedelta(0)).total_seconds()\n",
    "\n",
    "print(total_downtime/1000)\n"
   ]
  }
 ],
 "metadata": {
  "kernelspec": {
   "display_name": "base",
   "language": "python",
   "name": "python3"
  },
  "language_info": {
   "codemirror_mode": {
    "name": "ipython",
    "version": 3
   },
   "file_extension": ".py",
   "mimetype": "text/x-python",
   "name": "python",
   "nbconvert_exporter": "python",
   "pygments_lexer": "ipython3",
   "version": "3.11.7"
  }
 },
 "nbformat": 4,
 "nbformat_minor": 2
}
