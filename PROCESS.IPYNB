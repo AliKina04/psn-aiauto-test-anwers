{
 "cells": [
  {
   "cell_type": "code",
   "execution_count": 30,
   "metadata": {},
   "outputs": [
    {
     "name": "stdout",
     "output_type": "stream",
     "text": [
      "File success device_network_data.xlsx\n"
     ]
    }
   ],
   "source": [
    "import pandas as pd\n",
    "\n",
    "# Read file CVS\n",
    "csv_file_path = \"device_network_data.csv\"\n",
    "df = pd.read_csv(csv_file_path)\n",
    "\n",
    "# Save to xlsx format (I prefer to used xlsx)\n",
    "xlsx_file_path = \"device_network_data.xlsx\"\n",
    "df.to_excel(xlsx_file_path, index=False)\n",
    "\n",
    "print(f\"File success {xlsx_file_path}\")"
   ]
  },
  {
   "cell_type": "code",
   "execution_count": 31,
   "metadata": {},
   "outputs": [
    {
     "name": "stderr",
     "output_type": "stream",
     "text": [
      "C:\\Users\\USER\\AppData\\Local\\Temp\\ipykernel_8468\\2021149637.py:10: FutureWarning: Series.fillna with 'method' is deprecated and will raise in a future version. Use obj.ffill() or obj.bfill() instead.\n",
      "  df[column] = df[column].fillna(method='ffill')\n",
      "C:\\Users\\USER\\AppData\\Local\\Temp\\ipykernel_8468\\2021149637.py:16: FutureWarning: Series.fillna with 'method' is deprecated and will raise in a future version. Use obj.ffill() or obj.bfill() instead.\n",
      "  df['Value'] = df['Value'].fillna(method='ffill')\n"
     ]
    }
   ],
   "source": [
    "# Fill the null or \" \" value with the last non-null value before it self\n",
    "columns_to_fill = ['Value']  \n",
    "\n",
    "# Process to fill the null and not valid value \n",
    "for column in columns_to_fill:\n",
    "    # Check the value of columns \"Value\"\n",
    "    df[column] = df[column].apply(lambda x: pd.NA if x == '' else x)\n",
    "    \n",
    "    # Change the value of nan with last value before the nan value (just 1 or 0)\n",
    "    df[column] = df[column].fillna(method='ffill')\n",
    "    \n",
    "# Change the value of \"Null\"\n",
    "df['Value'] = df['Value'].replace('Null', pd.NA)\n",
    "\n",
    "# Change it to 1 or 0 (last value before it self)\n",
    "df['Value'] = df['Value'].fillna(method='ffill')\n",
    "\n",
    "# Save to new dataframe\n",
    "xlsx_file_path = \"device_network_data_filled.xlsx\"\n",
    "df.to_excel(xlsx_file_path, index=False)"
   ]
  },
  {
   "cell_type": "code",
   "execution_count": 32,
   "metadata": {},
   "outputs": [
    {
     "name": "stdout",
     "output_type": "stream",
     "text": [
      "0\n"
     ]
    }
   ],
   "source": [
    "# Check whether there are still null values ​​in the values ​​column (with isna and sum)\n",
    "null_values = df['Value'].isna().sum()\n",
    "print (null_values)"
   ]
  },
  {
   "cell_type": "code",
   "execution_count": 43,
   "metadata": {},
   "outputs": [
    {
     "name": "stdout",
     "output_type": "stream",
     "text": [
      "Total downtime: 58.318 seconds\n"
     ]
    }
   ],
   "source": [
    "# Testing\n",
    "import pandas as pd\n",
    "\n",
    "# First we read our CVS file for our data\n",
    "file_path = \"device_network_data_filled.xlsx\" \n",
    "df = pd.read_excel(file_path)\n",
    "\n",
    "# Make data frame\n",
    "df = pd.DataFrame(df, columns=['Epoch Time', 'Value'])\n",
    "\n",
    "# Convert the 'Epoch Time' column to datetime format, \"ms\" it means second\n",
    "df['Epoch Time'] = pd.to_datetime(df['Epoch Time'], unit='ms')\n",
    "\n",
    "# Calculate the total downtime in seconds\n",
    "df['Time Difference'] = df['Epoch Time'].diff().dt.total_seconds()\n",
    "\n",
    "# Calculate the total downtime when the device was down (Value == 1 )\n",
    "total_downtime = df.loc[df['Value'] == 1, 'Time Difference'].sum()\n",
    "\n",
    "# Convert the total downtime with second (devided 1000)\n",
    "total_downtime_convert = total_downtime / 1000\n",
    "\n",
    "# Print the result\n",
    "print(f\"Total downtime: {total_downtime_convert} seconds\")\n"
   ]
  },
  {
   "cell_type": "code",
   "execution_count": 39,
   "metadata": {},
   "outputs": [
    {
     "name": "stdout",
     "output_type": "stream",
     "text": [
      "Total downtime: 59.0 seconds\n"
     ]
    }
   ],
   "source": [
    "import pandas as pd\n",
    "\n",
    "# Test Data\n",
    "data_test_2 = [\n",
    "    (1704042000000, 1),\n",
    "    (1704042026000, 1),\n",
    "    (1704042035000, 1),\n",
    "    (1704042037000, 1),\n",
    "    (1704042059000, 1),\n",
    "]\n",
    "\n",
    "# Make data frame\n",
    "df = pd.DataFrame(data_test_2, columns=['Epoch Time', 'Value'])\n",
    "\n",
    "# Convert the 'Epoch Time' column to datetime format, \"ms\" it means second\n",
    "df['Epoch Time'] = pd.to_datetime(df['Epoch Time'], unit='ms')\n",
    "\n",
    "# Calculate the total downtime in seconds\n",
    "df['Time Difference'] = df['Epoch Time'].diff().dt.total_seconds()\n",
    "\n",
    "# Calculate the total downtime when the device was down (Value == 1 )\n",
    "total_downtime = df.loc[df['Value'] == 1, 'Time Difference'].sum()\n",
    "\n",
    "# Print the result\n",
    "print(f\"Total downtime: {total_downtime} seconds\")\n"
   ]
  },
  {
   "cell_type": "code",
   "execution_count": 36,
   "metadata": {},
   "outputs": [
    {
     "name": "stdout",
     "output_type": "stream",
     "text": [
      "Total downtime: 12.0 seconds\n"
     ]
    }
   ],
   "source": [
    "import pandas as pd\n",
    "\n",
    "# Contoh data\n",
    "data_test_1 = [\n",
    "    (1704042000000, 0),\n",
    "    (1704042026000, 1),\n",
    "    (1704042035000, 1),\n",
    "    (1704042037000, 0),\n",
    "    (1704042059000, 1),\n",
    "    (1704042060000, 1)\n",
    "]\n",
    "\n",
    "df = pd.DataFrame(data_test_1, columns=['Epoch Time', 'Value'])\n",
    "\n",
    "# Convert the 'Epoch Time' column to datetime format, \"ms\" it means second\n",
    "df['Epoch Time'] = pd.to_datetime(df['Epoch Time'], unit='ms')\n",
    "\n",
    "# Calculate the total downtime in seconds\n",
    "df['Time Difference'] = df['Epoch Time'].diff().dt.total_seconds()\n",
    "\n",
    "# Initialitation\n",
    "total_downtime = 0\n",
    "\n",
    "# Iterasi for downtime\n",
    "for i in range(1, len(df)):\n",
    "    if df.loc[i-1, 'Value'] == 1:\n",
    "        # Only add time if the device was down on the previous line\n",
    "        total_downtime += df.loc[i, 'Time Difference']\n",
    "\n",
    "print(f\"Total downtime: {total_downtime} seconds\")\n"
   ]
  }
 ],
 "metadata": {
  "kernelspec": {
   "display_name": "base",
   "language": "python",
   "name": "python3"
  },
  "language_info": {
   "codemirror_mode": {
    "name": "ipython",
    "version": 3
   },
   "file_extension": ".py",
   "mimetype": "text/x-python",
   "name": "python",
   "nbconvert_exporter": "python",
   "pygments_lexer": "ipython3",
   "version": "3.11.7"
  }
 },
 "nbformat": 4,
 "nbformat_minor": 2
}
